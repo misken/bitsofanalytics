{
 "cells": [
  {
   "cell_type": "markdown",
   "metadata": {},
   "source": [
    "# Firewood math and metrics"
   ]
  },
  {
   "cell_type": "raw",
   "metadata": {
    "raw_mimetype": "text/restructuredtext",
    "tags": []
   },
   "source": [
    ".. post:: Jan 02, 2019\n",
    "   :author: misken\n",
    "   :tags: jupyter, ablog\n",
    "   :exclude:\n",
    "   \n",
    "   Firewood metrics and simulating firewood use"
   ]
  },
  {
   "cell_type": "markdown",
   "metadata": {},
   "source": [
    "\n",
    "\n",
    "We inherited a large pile of firewood for a wood burning stove. We've never had a wood burning stove. People who actually know something about, or sell, firewood for such devices talk about *cords* and *face cords* of firewood. Time to learn something about firewood metrics."
   ]
  },
  {
   "cell_type": "code",
   "execution_count": 1,
   "metadata": {},
   "outputs": [],
   "source": [
    "import math\n",
    "import numpy as np\n",
    "import pandas as pd\n",
    "import matplotlib.pyplot as plt"
   ]
  },
  {
   "cell_type": "code",
   "execution_count": 2,
   "metadata": {},
   "outputs": [],
   "source": [
    "%matplotlib inline"
   ]
  },
  {
   "cell_type": "markdown",
   "metadata": {},
   "source": [
    "## Cords and face cords\n",
    "\n",
    "A [cord of firewood](https://woodheat.org/cord-wood.html) is about $4 \\text{ft} \\times 4 \\text{ft} \\times 8 \\text{ft}$, or $128 \\text{ft}^3$ in volume. Typically, a log for a wood burning stove is approximately $16 \\text{in}$. So, you can slice a full cord into three *face cords*, each being $4 \\text{ft} \\times 1 \\frac {1}{3} \\text{ft} \\times 8 \\text{ft}$. Of course, that's not all wood because there is a bunch of air in the stack. But, I'm not so interested in weight, I'm interested in number of logs and how long our stack of wood will last.\n"
   ]
  },
  {
   "cell_type": "markdown",
   "metadata": {},
   "source": [
    "## How much wood do we have?\n",
    "\n",
    "It appears that when our stack of logs was full, it was two cords (~16 feet long).\n",
    "\n",
    "Obviously, the number of logs in a face cord is dependent on the diameter of the logs. I did a rough count and got about 20 logs wide by 10 logs high for each face cord."
   ]
  },
  {
   "cell_type": "code",
   "execution_count": 41,
   "metadata": {},
   "outputs": [
    {
     "name": "stdout",
     "output_type": "stream",
     "text": [
      "Logs per face cord: 200\n",
      "Logs per cord: 600\n"
     ]
    }
   ],
   "source": [
    "pile_height_logs = 10\n",
    "pile_width_logs = 20\n",
    "logs_per_facecord = pile_height_logs * pile_width_logs\n",
    "logs_per_cord = 3 * logs_per_facecord\n",
    "print(\"Logs per face cord: {}\".format(logs_per_facecord))\n",
    "print(\"Logs per cord: {}\".format(logs_per_cord))"
   ]
  },
  {
   "cell_type": "code",
   "execution_count": 6,
   "metadata": {},
   "outputs": [
    {
     "name": "stdout",
     "output_type": "stream",
     "text": [
      "Total logs in full pile: 1200\n"
     ]
    }
   ],
   "source": [
    "num_facecords = 6\n",
    "tot_logs = logs_per_facecord * num_facecords\n",
    "print(\"Total logs in full pile: {}\".format(tot_logs))"
   ]
  },
  {
   "cell_type": "markdown",
   "metadata": {},
   "source": [
    "We've used some wood - maybe about 75% of a face cord."
   ]
  },
  {
   "cell_type": "code",
   "execution_count": 7,
   "metadata": {},
   "outputs": [
    {
     "name": "stdout",
     "output_type": "stream",
     "text": [
      "Total logs left in partial pile: 1050\n"
     ]
    }
   ],
   "source": [
    "num_facecords_used = 0.75\n",
    "tot_logs_remaining = logs_per_facecord * (num_facecords - num_facecords_used)\n",
    "print(\"Total logs left in partial pile: {}\".format(int(tot_logs_remaining)))"
   ]
  },
  {
   "cell_type": "markdown",
   "metadata": {},
   "source": [
    "## How much wood do we use?\n",
    "\n",
    "On a winter day in which we keep the stove going from morning until night, we use approximately 12-14 logs."
   ]
  },
  {
   "cell_type": "code",
   "execution_count": 11,
   "metadata": {},
   "outputs": [],
   "source": [
    "logs_per_day = 13"
   ]
  },
  {
   "cell_type": "markdown",
   "metadata": {},
   "source": [
    "The largest source of uncertainty is the number of *equivalent burning days* (EBD) in which we use the stove. Some days we might just burn a few logs in the evening. Here's an estimate of EBD by month:"
   ]
  },
  {
   "cell_type": "code",
   "execution_count": 12,
   "metadata": {},
   "outputs": [],
   "source": [
    "ebd_month_mean = [5, 10, 5, 5, 2, 1, 2, 1, 3, 5, 5, 10]"
   ]
  },
  {
   "cell_type": "code",
   "execution_count": 13,
   "metadata": {},
   "outputs": [
    {
     "name": "stdout",
     "output_type": "stream",
     "text": [
      "[65, 130, 65, 65, 26, 13, 26, 13, 39, 65, 65, 130]\n",
      "Total logs burned per year: 702\n"
     ]
    }
   ],
   "source": [
    "logs_per_month_mean = [logs_per_day * ebd for ebd in ebd_month_mean]\n",
    "print(logs_per_month_mean)\n",
    "logs_per_year = sum(logs_per_month_mean)\n",
    "print(\"Total logs burned per year: {}\".format(logs_per_year))"
   ]
  },
  {
   "cell_type": "markdown",
   "metadata": {},
   "source": [
    "## How long would a cord last?"
   ]
  },
  {
   "cell_type": "code",
   "execution_count": 14,
   "metadata": {},
   "outputs": [
    {
     "name": "stdout",
     "output_type": "stream",
     "text": [
      "One cord lasts ~ 0.85 years.\n"
     ]
    }
   ],
   "source": [
    "print(\"One cord lasts ~ {:.2f} years.\".format(logs_per_cord / logs_per_year))"
   ]
  },
  {
   "cell_type": "code",
   "execution_count": 15,
   "metadata": {},
   "outputs": [
    {
     "name": "stdout",
     "output_type": "stream",
     "text": [
      "Two cords lasts ~ 1.71 years.\n"
     ]
    }
   ],
   "source": [
    "print(\"Two cords lasts ~ {:.2f} years.\".format(2 * logs_per_cord / logs_per_year))"
   ]
  },
  {
   "cell_type": "markdown",
   "metadata": {},
   "source": [
    "## Simulating firewood use\n",
    "\n",
    "The largest component of uncertainty is our monthly usage. Let's assume that log usage can be approximated by a normal distribution with monthly means specified by `logs_per_month_mean` and monthly standard deviations equal to the square root of the means."
   ]
  },
  {
   "cell_type": "code",
   "execution_count": 16,
   "metadata": {},
   "outputs": [],
   "source": [
    "logs_per_month_sd = [math.sqrt(mean) for mean in logs_per_month_mean] "
   ]
  },
  {
   "cell_type": "markdown",
   "metadata": {},
   "source": [
    "Let's have the simulation clock tick in months and we'll simulate until we run out of logs. We'll record the month in which that happens."
   ]
  },
  {
   "cell_type": "code",
   "execution_count": 17,
   "metadata": {},
   "outputs": [],
   "source": [
    "def logsim(numlogs, logs_per_month_mean, logs_per_month_sd):\n",
    "    period = 0\n",
    "    month = period % 12\n",
    "\n",
    "    while numlogs > 0:\n",
    "        logs_used = round(np.random.normal(logs_per_month_mean[month], logs_per_month_sd[month]))\n",
    "        numlogs -= logs_used\n",
    "        period += 1\n",
    "        month = period % 12\n",
    "\n",
    "    return period\n",
    "    "
   ]
  },
  {
   "cell_type": "code",
   "execution_count": 20,
   "metadata": {},
   "outputs": [
    {
     "name": "stdout",
     "output_type": "stream",
     "text": [
      "[18, 19, 19, 16, 17, 16, 16, 16, 17, 16, 19, 20, 20, 16, 20, 18, 16, 16, 18, 18, 19, 18, 19, 19, 18, 16, 21, 19, 16, 20, 19, 16, 16, 20, 16, 17, 21, 16, 16, 16, 20, 16, 19, 19, 16, 17, 19, 17, 19, 21, 19, 18, 19, 17, 16, 18, 19, 17, 19, 17, 19, 17, 19, 18, 19, 16, 19, 17, 19, 18, 21, 19, 16, 19, 16, 17, 16, 21, 17, 17, 19, 19, 18, 18, 19, 20, 16, 20, 19, 17, 19, 18, 17, 17, 16, 17, 17, 19, 17, 18]\n"
     ]
    }
   ],
   "source": [
    "nsim = 10000\n",
    "sim = 0\n",
    "stockout_period = []\n",
    "num_logs_current = tot_logs_remaining\n",
    "\n",
    "while sim < nsim:\n",
    "    so_prd = logsim(num_logs_current, logs_per_month_mean, logs_per_month_sd)\n",
    "    stockout_period.append(so_prd)\n",
    "    sim += 1\n",
    "    \n",
    "print(stockout_period[:100])\n",
    "    "
   ]
  },
  {
   "cell_type": "markdown",
   "metadata": {},
   "source": [
    "Let's compute summary stats and create a histogram."
   ]
  },
  {
   "cell_type": "code",
   "execution_count": 27,
   "metadata": {},
   "outputs": [
    {
     "data": {
      "text/html": [
       "<div>\n",
       "<style scoped>\n",
       "    .dataframe tbody tr th:only-of-type {\n",
       "        vertical-align: middle;\n",
       "    }\n",
       "\n",
       "    .dataframe tbody tr th {\n",
       "        vertical-align: top;\n",
       "    }\n",
       "\n",
       "    .dataframe thead th {\n",
       "        text-align: right;\n",
       "    }\n",
       "</style>\n",
       "<table border=\"1\" class=\"dataframe\">\n",
       "  <thead>\n",
       "    <tr style=\"text-align: right;\">\n",
       "      <th></th>\n",
       "      <th>stockout_period</th>\n",
       "    </tr>\n",
       "  </thead>\n",
       "  <tbody>\n",
       "    <tr>\n",
       "      <th>count</th>\n",
       "      <td>10000.000000</td>\n",
       "    </tr>\n",
       "    <tr>\n",
       "      <th>mean</th>\n",
       "      <td>17.659300</td>\n",
       "    </tr>\n",
       "    <tr>\n",
       "      <th>std</th>\n",
       "      <td>1.426474</td>\n",
       "    </tr>\n",
       "    <tr>\n",
       "      <th>min</th>\n",
       "      <td>15.000000</td>\n",
       "    </tr>\n",
       "    <tr>\n",
       "      <th>25%</th>\n",
       "      <td>17.000000</td>\n",
       "    </tr>\n",
       "    <tr>\n",
       "      <th>50%</th>\n",
       "      <td>17.000000</td>\n",
       "    </tr>\n",
       "    <tr>\n",
       "      <th>75%</th>\n",
       "      <td>19.000000</td>\n",
       "    </tr>\n",
       "    <tr>\n",
       "      <th>max</th>\n",
       "      <td>22.000000</td>\n",
       "    </tr>\n",
       "  </tbody>\n",
       "</table>\n",
       "</div>"
      ],
      "text/plain": [
       "       stockout_period\n",
       "count     10000.000000\n",
       "mean         17.659300\n",
       "std           1.426474\n",
       "min          15.000000\n",
       "25%          17.000000\n",
       "50%          17.000000\n",
       "75%          19.000000\n",
       "max          22.000000"
      ]
     },
     "execution_count": 27,
     "metadata": {},
     "output_type": "execute_result"
    }
   ],
   "source": [
    "stockout_df = pd.DataFrame({'stockout_period': stockout_period})\n",
    "stockout_stats = stockout_df.describe()\n",
    "stockout_stats"
   ]
  },
  {
   "cell_type": "code",
   "execution_count": 33,
   "metadata": {},
   "outputs": [
    {
     "data": {
      "text/plain": [
       "array([14., 15., 16., 17., 18., 19., 20., 21., 22., 23.])"
      ]
     },
     "execution_count": 33,
     "metadata": {},
     "output_type": "execute_result"
    }
   ],
   "source": [
    "minbin = int(stockout_stats.loc['min'])-1\n",
    "maxbin = int(stockout_stats.loc['max'])+1\n",
    "bins = np.linspace(minbin, maxbin, maxbin - minbin + 1)\n",
    "bins"
   ]
  },
  {
   "cell_type": "code",
   "execution_count": 34,
   "metadata": {},
   "outputs": [
    {
     "data": {
      "text/plain": [
       "array([[<matplotlib.axes._subplots.AxesSubplot object at 0x7fc4df3dcd30>]],\n",
       "      dtype=object)"
      ]
     },
     "execution_count": 34,
     "metadata": {},
     "output_type": "execute_result"
    },
    {
     "data": {
      "image/png": "[encoded data removed]",
      "text/plain": [
       "<Figure size 432x288 with 1 Axes>"
      ]
     },
     "metadata": {
      "needs_background": "light"
     },
     "output_type": "display_data"
    }
   ],
   "source": [
    "\n",
    "so_df.hist(bins=bins)"
   ]
  },
  {
   "cell_type": "code",
   "execution_count": 38,
   "metadata": {},
   "outputs": [],
   "source": [
    "start_period = pd.Period('2019-01-01',freq='M')\n",
    "median_stockout = start_period + int(stockout_stats.loc['50%'])\n",
    "q1_stockout = start_period + int(stockout_stats.loc['25%'])\n",
    "q3_stockout = start_period + int(stockout_stats.loc['75%'])\n"
   ]
  },
  {
   "cell_type": "code",
   "execution_count": 40,
   "metadata": {},
   "outputs": [
    {
     "name": "stdout",
     "output_type": "stream",
     "text": [
      "The median stockout period is: 2020-06\n",
      "The IQR for the stockout period is: 2020-06 - 2020-08\n"
     ]
    }
   ],
   "source": [
    "print(\"The median stockout period is: {}\".format(median_stockout))\n",
    "print(\"The IQR for the stockout period is: {} - {}\".format(q1_stockout, q3_stockout))"
   ]
  },
  {
   "cell_type": "markdown",
   "metadata": {},
   "source": [
    "Looks like the log pile will be gone in summer of 2020."
   ]
  },
  {
   "cell_type": "code",
   "execution_count": null,
   "metadata": {},
   "outputs": [],
   "source": []
  }
 ],
 "metadata": {
  "kernelspec": {
   "display_name": "Python 3",
   "language": "python",
   "name": "python3"
  },
  "language_info": {
   "codemirror_mode": {
    "name": "ipython",
    "version": 3
   },
   "file_extension": ".py",
   "mimetype": "text/x-python",
   "name": "python",
   "nbconvert_exporter": "python",
   "pygments_lexer": "ipython3",
   "version": "3.8.8"
  }
 },
 "nbformat": 4,
 "nbformat_minor": 4
}
